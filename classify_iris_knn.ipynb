{
  "nbformat": 4,
  "nbformat_minor": 0,
  "metadata": {
    "colab": {
      "name": "classify_iris_knn.ipynb",
      "provenance": [],
      "collapsed_sections": [],
      "authorship_tag": "ABX9TyMG9KMXPUGTEJ+vAN5Qv7PS",
      "include_colab_link": true
    },
    "kernelspec": {
      "name": "python3",
      "display_name": "Python 3"
    },
    "language_info": {
      "name": "python"
    }
  },
  "cells": [
    {
      "cell_type": "markdown",
      "metadata": {
        "id": "view-in-github",
        "colab_type": "text"
      },
      "source": [
        "<a href=\"https://colab.research.google.com/github/shalindasuresh/machine_learning_python/blob/main/classify_iris_knn.ipynb\" target=\"_parent\"><img src=\"https://colab.research.google.com/assets/colab-badge.svg\" alt=\"Open In Colab\"/></a>"
      ]
    },
    {
      "cell_type": "code",
      "metadata": {
        "id": "egIwUw8ncf-p"
      },
      "source": [
        "from sklearn.datasets import load_iris #Import Iris dataset from SKLearn\n",
        "from sklearn.model_selection import train_test_split #Import Train/Test Data split function\n",
        "from sklearn.neighbors import KNeighborsClassifier #Import KNearestNeighbor Algorithm for our machine learning task\n",
        "import numpy as np #Import Numpy library\n"
      ],
      "execution_count": null,
      "outputs": []
    },
    {
      "cell_type": "code",
      "metadata": {
        "id": "gedrfuPogtl8"
      },
      "source": [
        "\n",
        "iris_data = load_iris() #Load Iris dataset into variable"
      ],
      "execution_count": null,
      "outputs": []
    },
    {
      "cell_type": "code",
      "metadata": {
        "colab": {
          "base_uri": "https://localhost:8080/"
        },
        "id": "QQKmV5O1g6JK",
        "outputId": "b273afa7-e52e-42c9-dd2b-ec5a697328b2"
      },
      "source": [
        "list(iris_data.target_names) #Print iris specias names that we're going to predict"
      ],
      "execution_count": null,
      "outputs": [
        {
          "output_type": "execute_result",
          "data": {
            "text/plain": [
              "['setosa', 'versicolor', 'virginica']"
            ]
          },
          "metadata": {
            "tags": []
          },
          "execution_count": 60
        }
      ]
    },
    {
      "cell_type": "code",
      "metadata": {
        "colab": {
          "base_uri": "https://localhost:8080/"
        },
        "id": "Dfv1O16vg-V5",
        "outputId": "58e4d800-61d1-4623-d082-c5480b0590c1"
      },
      "source": [
        "list(iris_data.feature_names) #These are the measurements of Iris flower"
      ],
      "execution_count": null,
      "outputs": [
        {
          "output_type": "execute_result",
          "data": {
            "text/plain": [
              "['sepal length (cm)',\n",
              " 'sepal width (cm)',\n",
              " 'petal length (cm)',\n",
              " 'petal width (cm)']"
            ]
          },
          "metadata": {
            "tags": []
          },
          "execution_count": 61
        }
      ]
    },
    {
      "cell_type": "code",
      "metadata": {
        "colab": {
          "base_uri": "https://localhost:8080/"
        },
        "id": "tADkXnYDiWTk",
        "outputId": "93fb7240-79b1-4889-fad1-2cb61a0b4a3c"
      },
      "source": [
        "iris_data.data.shape #We have 150 rows and 4 feature columns\n"
      ],
      "execution_count": null,
      "outputs": [
        {
          "output_type": "execute_result",
          "data": {
            "text/plain": [
              "(150, 4)"
            ]
          },
          "metadata": {
            "tags": []
          },
          "execution_count": 63
        }
      ]
    },
    {
      "cell_type": "code",
      "metadata": {
        "id": "bm_8jHsfhOUi"
      },
      "source": [
        "X = iris_data.data #These are Iris feature columns\n",
        "y = iris_data.target #This is the Iris flower name column\n",
        "\n",
        "X_train, X_test, y_train, y_test = train_test_split(X, y, test_size=0.3, random_state=0)"
      ],
      "execution_count": null,
      "outputs": []
    },
    {
      "cell_type": "code",
      "metadata": {
        "id": "y4-K6wNlp0Q9"
      },
      "source": [
        "knn_model = KNeighborsClassifier(n_neighbors=3)"
      ],
      "execution_count": null,
      "outputs": []
    },
    {
      "cell_type": "code",
      "metadata": {
        "colab": {
          "base_uri": "https://localhost:8080/"
        },
        "id": "lEJ_WilKqFN7",
        "outputId": "22642073-e0d9-4e54-fc02-3922d75171fe"
      },
      "source": [
        "knn_model.fit(X_train, y_train)"
      ],
      "execution_count": null,
      "outputs": [
        {
          "output_type": "execute_result",
          "data": {
            "text/plain": [
              "KNeighborsClassifier(algorithm='auto', leaf_size=30, metric='minkowski',\n",
              "                     metric_params=None, n_jobs=None, n_neighbors=3, p=2,\n",
              "                     weights='uniform')"
            ]
          },
          "metadata": {
            "tags": []
          },
          "execution_count": 67
        }
      ]
    },
    {
      "cell_type": "code",
      "metadata": {
        "colab": {
          "base_uri": "https://localhost:8080/"
        },
        "id": "iqkoMDnbqWby",
        "outputId": "ef0b5384-763e-40c9-effa-7ad84de6fe0b"
      },
      "source": [
        "y_pred = knn_model.predict(X_test)\n",
        "print(\"KNN test score (knn.score): {:.2f}\".format(knn_model.score(X_test, y_test)))"
      ],
      "execution_count": null,
      "outputs": [
        {
          "output_type": "stream",
          "text": [
            "KNN test score (knn.score): 0.98\n"
          ],
          "name": "stdout"
        }
      ]
    },
    {
      "cell_type": "code",
      "metadata": {
        "colab": {
          "base_uri": "https://localhost:8080/"
        },
        "id": "S4_Z_wEUq-Ay",
        "outputId": "9f0c260c-893c-4109-9d6f-015ac9946ba0"
      },
      "source": [
        "X_new = np.array([[5, 2.9, 1, 0.2]])\n",
        "\n",
        "prediction = knn_model.predict(X_new)\n",
        "print(\"Predicted Iris species: {}\".format(iris['target_names'][prediction]))"
      ],
      "execution_count": null,
      "outputs": [
        {
          "output_type": "stream",
          "text": [
            "Predicted Iris species: ['setosa']\n"
          ],
          "name": "stdout"
        }
      ]
    }
  ]
}